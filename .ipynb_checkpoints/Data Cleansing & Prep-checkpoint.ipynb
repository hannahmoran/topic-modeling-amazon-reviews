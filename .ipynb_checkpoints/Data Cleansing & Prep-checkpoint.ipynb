{
 "cells": [
  {
   "cell_type": "code",
   "execution_count": 1,
   "metadata": {},
   "outputs": [],
   "source": [
    "# import necessary libraries\n",
    "import pandas as pd\n",
    "import numpy as np\n",
    "import matplotlib.pyplot as plt\n",
    "import re\n",
    "%matplotlib inline"
   ]
  },
  {
   "cell_type": "markdown",
   "metadata": {},
   "source": [
    "# Exploratory Data Analysis\n",
    "First, read in the data and take a look at what's in the dataframe. \n",
    "<br><br>\n",
    "The data contains product ID but no product name for each review. It also includes user ID and username corresponding to each review, along with helpfullness votes and datetime information. \n",
    "<br><br>\n",
    "Most importantly, there is a \"Score\" value which is the overall star rating from the review, and two text fields that contain the review \"summary\" (similar to a title) and the text of the review itself. "
   ]
  },
  {
   "cell_type": "code",
   "execution_count": null,
   "metadata": {},
   "outputs": [],
   "source": [
    "# read in the raw review data as downloaded from Kaggle\n",
    "# https://www.kaggle.com/snap/amazon-fine-food-reviews\n",
    "df = pd.read_csv('Reviews.csv')\n",
    "df.head(5)"
   ]
  },
  {
   "cell_type": "markdown",
   "metadata": {},
   "source": [
    "### Star Ratings\n",
    "\n",
    "Summary statistics show how many unique reviews, products, and users there are in the dataset. \n",
    "<br><br>\n",
    "5-star ratings by far dominate the dataset, so immediately it is obvious that there is going to be a class imbalance situation for any kind of classification analysis."
   ]
  },
  {
   "cell_type": "code",
   "execution_count": 93,
   "metadata": {},
   "outputs": [
    {
     "name": "stdout",
     "output_type": "stream",
     "text": [
      "Dataset has 568454 reviews for 74258 products from 256059 users in total.\n"
     ]
    }
   ],
   "source": [
    "# quick summary info on the size of the data we are looking at\n",
    "print(\"Dataset has {} reviews for {} products from {} users in total.\".format(len(df), \n",
    "                                                                              len(df['ProductId'].unique()), \n",
    "                                                                                 len(df['UserId'].unique())))"
   ]
  },
  {
   "cell_type": "code",
   "execution_count": 94,
   "metadata": {},
   "outputs": [
    {
     "name": "stdout",
     "output_type": "stream",
     "text": [
      "1     52268\n",
      "2     29769\n",
      "3     42640\n",
      "4     80655\n",
      "5    363122\n",
      "Name: Score, dtype: int64\n"
     ]
    },
    {
     "data": {
      "image/png": "[encoded data removed]",
      "text/plain": [
       "<matplotlib.figure.Figure at 0x18b1349b0>"
      ]
     },
     "metadata": {},
     "output_type": "display_data"
    }
   ],
   "source": [
    "# take a look at the distribution of ratings\n",
    "fig, ax = plt.subplots()\n",
    "df['Score'].value_counts().sort_index().plot(kind='bar')\n",
    "ax.set(title=\"Distribution of Star Ratings in the Amazon Data\", xlabel=\"# of Stars\", ylabel=\"Number of Reviews\")\n",
    "print(df['Score'].value_counts().sort_index())"
   ]
  },
  {
   "cell_type": "markdown",
   "metadata": {},
   "source": [
    "### Reviews per Product\n",
    "\n",
    "Next, how many reviews are there for each product? If there are not enough reviews, there won't be enough data to do analysis on a product-by-product basis, particularly the initial topic modeling. Topic models built on a small corpus of reviews would not be very meaningful. "
   ]
  },
  {
   "cell_type": "code",
   "execution_count": 95,
   "metadata": {},
   "outputs": [
    {
     "data": {
      "text/plain": [
       "[<matplotlib.text.Text at 0x10d222470>,\n",
       " <matplotlib.text.Text at 0x18b13c9e8>,\n",
       " <matplotlib.text.Text at 0x10d2cea90>]"
      ]
     },
     "execution_count": 95,
     "metadata": {},
     "output_type": "execute_result"
    },
    {
     "data": {
      "image/png": "[encoded data removed]",
      "text/plain": [
       "<matplotlib.figure.Figure at 0x10d234e10>"
      ]
     },
     "metadata": {},
     "output_type": "display_data"
    }
   ],
   "source": [
    "fig, ax = plt.subplots()\n",
    "df['ProductId'].value_counts().sort_values().plot(kind='hist')\n",
    "ax.set(title=\"Histogram of Reviews per Product in the Amazon Data\", xlabel=\"Number of Reviews per Product\", ylabel=\"# of Products\")"
   ]
  },
  {
   "cell_type": "markdown",
   "metadata": {},
   "source": [
    "The distribution of reviews per product is enormously skewed. Only 862 of the 500K+ unique product IDs have more than 200 reviews, which is the threshold value I've set for this analysis."
   ]
  },
  {
   "cell_type": "code",
   "execution_count": 96,
   "metadata": {},
   "outputs": [
    {
     "name": "stdout",
     "output_type": "stream",
     "text": [
      "85.69985725443723% of the products have fewer than 10 reviews\n",
      "98.83379568531336% of the products have fewer than 100 reviews\n",
      "862 of the products have more than 200 reviews\n"
     ]
    }
   ],
   "source": [
    "review_counts = df['ProductId'].value_counts().sort_values()\n",
    "print('{}% of the products have fewer than 10 reviews'.format(len(review_counts[review_counts<10])/len(review_counts)*100))\n",
    "print('{}% of the products have fewer than 100 reviews'.format(len(review_counts[review_counts<100])/len(review_counts)*100))\n",
    "print('{} of the products have more than 200 reviews'.format(len(review_counts[review_counts>100])))"
   ]
  },
  {
   "cell_type": "markdown",
   "metadata": {},
   "source": [
    "To start I'm going to drop all those products that have fewer than 10 reviews. "
   ]
  },
  {
   "cell_type": "code",
   "execution_count": 97,
   "metadata": {},
   "outputs": [],
   "source": [
    "less_ten = review_counts[review_counts<10].index\n",
    "df.drop(labels=df.loc[df['ProductId'].isin(less_ten)].index, axis=0, inplace=True)\n",
    "del less_ten"
   ]
  },
  {
   "cell_type": "markdown",
   "metadata": {},
   "source": [
    "### Review Length (Chars)\n",
    "The length of the reviews themselves is also relevant. If too many of them are very short, the topic modeling and sentiment analysis algorithms may not work effectively. "
   ]
  },
  {
   "cell_type": "code",
   "execution_count": 98,
   "metadata": {},
   "outputs": [
    {
     "data": {
      "text/html": [
       "<div>\n",
       "<style scoped>\n",
       "    .dataframe tbody tr th:only-of-type {\n",
       "        vertical-align: middle;\n",
       "    }\n",
       "\n",
       "    .dataframe tbody tr th {\n",
       "        vertical-align: top;\n",
       "    }\n",
       "\n",
       "    .dataframe thead th {\n",
       "        text-align: right;\n",
       "    }\n",
       "</style>\n",
       "<table border=\"1\" class=\"dataframe\">\n",
       "  <thead>\n",
       "    <tr style=\"text-align: right;\">\n",
       "      <th></th>\n",
       "      <th>Id</th>\n",
       "      <th>ProductId</th>\n",
       "      <th>UserId</th>\n",
       "      <th>ProfileName</th>\n",
       "      <th>HelpfulnessNumerator</th>\n",
       "      <th>HelpfulnessDenominator</th>\n",
       "      <th>Score</th>\n",
       "      <th>Time</th>\n",
       "      <th>Summary</th>\n",
       "      <th>Text</th>\n",
       "      <th>review_length</th>\n",
       "    </tr>\n",
       "  </thead>\n",
       "  <tbody>\n",
       "    <tr>\n",
       "      <th>13</th>\n",
       "      <td>14</td>\n",
       "      <td>B001GVISJM</td>\n",
       "      <td>A18ECVX2RJ7HUE</td>\n",
       "      <td>willie \"roadie\"</td>\n",
       "      <td>2</td>\n",
       "      <td>2</td>\n",
       "      <td>4</td>\n",
       "      <td>1288915200</td>\n",
       "      <td>fresh and greasy!</td>\n",
       "      <td>good flavor! these came securely packed... the...</td>\n",
       "      <td>97</td>\n",
       "    </tr>\n",
       "    <tr>\n",
       "      <th>14</th>\n",
       "      <td>15</td>\n",
       "      <td>B001GVISJM</td>\n",
       "      <td>A2MUGFV2TDQ47K</td>\n",
       "      <td>Lynrie \"Oh HELL no\"</td>\n",
       "      <td>4</td>\n",
       "      <td>5</td>\n",
       "      <td>5</td>\n",
       "      <td>1268352000</td>\n",
       "      <td>Strawberry Twizzlers - Yummy</td>\n",
       "      <td>The Strawberry Twizzlers are my guilty pleasur...</td>\n",
       "      <td>113</td>\n",
       "    </tr>\n",
       "  </tbody>\n",
       "</table>\n",
       "</div>"
      ],
      "text/plain": [
       "    Id   ProductId          UserId          ProfileName  HelpfulnessNumerator  \\\n",
       "13  14  B001GVISJM  A18ECVX2RJ7HUE      willie \"roadie\"                     2   \n",
       "14  15  B001GVISJM  A2MUGFV2TDQ47K  Lynrie \"Oh HELL no\"                     4   \n",
       "\n",
       "    HelpfulnessDenominator  Score        Time                       Summary  \\\n",
       "13                       2      4  1288915200             fresh and greasy!   \n",
       "14                       5      5  1268352000  Strawberry Twizzlers - Yummy   \n",
       "\n",
       "                                                 Text  review_length  \n",
       "13  good flavor! these came securely packed... the...             97  \n",
       "14  The Strawberry Twizzlers are my guilty pleasur...            113  "
      ]
     },
     "execution_count": 98,
     "metadata": {},
     "output_type": "execute_result"
    }
   ],
   "source": [
    "df['review_length'] = df['Text'].str.len()\n",
    "df.head(2)"
   ]
  },
  {
   "cell_type": "code",
   "execution_count": 99,
   "metadata": {},
   "outputs": [
    {
     "data": {
      "text/plain": [
       "[<matplotlib.text.Text at 0x10dcd44e0>, <matplotlib.text.Text at 0x13258b9e8>]"
      ]
     },
     "execution_count": 99,
     "metadata": {},
     "output_type": "execute_result"
    },
    {
     "data": {
      "image/png": "[encoded data removed]",
      "text/plain": [
       "<matplotlib.figure.Figure at 0x10d24dba8>"
      ]
     },
     "metadata": {},
     "output_type": "display_data"
    }
   ],
   "source": [
    "fig, ax = plt.subplots()\n",
    "df['review_length'].value_counts().sort_values().plot(kind='hist')\n",
    "ax.set(title=\"Histogram of Review Lengths in the Amazon Data\", xlabel=\"Number of characters\")"
   ]
  },
  {
   "cell_type": "markdown",
   "metadata": {},
   "source": [
    "Assume a review needs at least 150 characters to be useful to this analysis. For the products that have 200+ reviews, how many of those reviews also have at least 150 characters? "
   ]
  },
  {
   "cell_type": "code",
   "execution_count": 100,
   "metadata": {},
   "outputs": [
    {
     "name": "stdout",
     "output_type": "stream",
     "text": [
      "302 reviews have at least 200 reviews of at least 150 characters in length.\n"
     ]
    }
   ],
   "source": [
    "useful_reviews = df.loc[(df[\"ProductId\"].isin(review_counts[review_counts>200].index.values))&(df['review_length']>150)]\n",
    "print(\"{} reviews have at least 200 reviews of at least 150 characters in length.\".format(\n",
    "        len(useful_reviews['ProductId'].unique())))\n",
    "del useful_reviews"
   ]
  },
  {
   "cell_type": "markdown",
   "metadata": {},
   "source": [
    "### Duplicates?\n",
    "\n",
    "Finally, is it possible there are any review duplicates in the dataset? Duplicates for product IDs and user IDs are expected, but all reviews should be unique in terms of their text content (it's possible there might be a few with identical titles out there that are not actually duplicates)."
   ]
  },
  {
   "cell_type": "code",
   "execution_count": 101,
   "metadata": {},
   "outputs": [
    {
     "name": "stdout",
     "output_type": "stream",
     "text": [
      "There are a total of 213923 reviews with duplicates in the dataset\n"
     ]
    },
    {
     "data": {
      "text/html": [
       "<div>\n",
       "<style scoped>\n",
       "    .dataframe tbody tr th:only-of-type {\n",
       "        vertical-align: middle;\n",
       "    }\n",
       "\n",
       "    .dataframe tbody tr th {\n",
       "        vertical-align: top;\n",
       "    }\n",
       "\n",
       "    .dataframe thead th {\n",
       "        text-align: right;\n",
       "    }\n",
       "</style>\n",
       "<table border=\"1\" class=\"dataframe\">\n",
       "  <thead>\n",
       "    <tr style=\"text-align: right;\">\n",
       "      <th></th>\n",
       "      <th>Id</th>\n",
       "      <th>ProductId</th>\n",
       "      <th>UserId</th>\n",
       "      <th>ProfileName</th>\n",
       "      <th>HelpfulnessNumerator</th>\n",
       "      <th>HelpfulnessDenominator</th>\n",
       "      <th>Score</th>\n",
       "      <th>Time</th>\n",
       "      <th>Summary</th>\n",
       "      <th>Text</th>\n",
       "      <th>review_length</th>\n",
       "    </tr>\n",
       "  </thead>\n",
       "  <tbody>\n",
       "    <tr>\n",
       "      <th>262677</th>\n",
       "      <td>262678</td>\n",
       "      <td>B00213IAUQ</td>\n",
       "      <td>A129QMC08SW3T3</td>\n",
       "      <td>C. Clinger \"CatMa\"</td>\n",
       "      <td>4</td>\n",
       "      <td>5</td>\n",
       "      <td>5</td>\n",
       "      <td>1240012800</td>\n",
       "      <td>! Mmmmmmmmmm !</td>\n",
       "      <td>What a wonderful surprise to find LUCY's on Am...</td>\n",
       "      <td>524</td>\n",
       "    </tr>\n",
       "    <tr>\n",
       "      <th>117168</th>\n",
       "      <td>117169</td>\n",
       "      <td>B002AU4V94</td>\n",
       "      <td>A129QMC08SW3T3</td>\n",
       "      <td>C. Clinger \"CatMa\"</td>\n",
       "      <td>4</td>\n",
       "      <td>5</td>\n",
       "      <td>5</td>\n",
       "      <td>1240012800</td>\n",
       "      <td>! Mmmmmmmmmm !</td>\n",
       "      <td>What a wonderful surprise to find LUCY's on Am...</td>\n",
       "      <td>524</td>\n",
       "    </tr>\n",
       "    <tr>\n",
       "      <th>11141</th>\n",
       "      <td>11142</td>\n",
       "      <td>B00213ERI0</td>\n",
       "      <td>A129QMC08SW3T3</td>\n",
       "      <td>C. Clinger \"CatMa\"</td>\n",
       "      <td>4</td>\n",
       "      <td>5</td>\n",
       "      <td>5</td>\n",
       "      <td>1240012800</td>\n",
       "      <td>! Mmmmmmmmmm !</td>\n",
       "      <td>What a wonderful surprise to find LUCY's on Am...</td>\n",
       "      <td>524</td>\n",
       "    </tr>\n",
       "    <tr>\n",
       "      <th>262196</th>\n",
       "      <td>262197</td>\n",
       "      <td>B002AU3K1E</td>\n",
       "      <td>A129QMC08SW3T3</td>\n",
       "      <td>C. Clinger \"CatMa\"</td>\n",
       "      <td>4</td>\n",
       "      <td>5</td>\n",
       "      <td>5</td>\n",
       "      <td>1240012800</td>\n",
       "      <td>! Mmmmmmmmmm !</td>\n",
       "      <td>What a wonderful surprise to find LUCY's on Am...</td>\n",
       "      <td>524</td>\n",
       "    </tr>\n",
       "    <tr>\n",
       "      <th>426709</th>\n",
       "      <td>426710</td>\n",
       "      <td>B00213EU7I</td>\n",
       "      <td>A129QMC08SW3T3</td>\n",
       "      <td>C. Clinger \"CatMa\"</td>\n",
       "      <td>4</td>\n",
       "      <td>5</td>\n",
       "      <td>5</td>\n",
       "      <td>1240012800</td>\n",
       "      <td>! Mmmmmmmmmm !</td>\n",
       "      <td>What a wonderful surprise to find LUCY's on Am...</td>\n",
       "      <td>524</td>\n",
       "    </tr>\n",
       "  </tbody>\n",
       "</table>\n",
       "</div>"
      ],
      "text/plain": [
       "            Id   ProductId          UserId         ProfileName  \\\n",
       "262677  262678  B00213IAUQ  A129QMC08SW3T3  C. Clinger \"CatMa\"   \n",
       "117168  117169  B002AU4V94  A129QMC08SW3T3  C. Clinger \"CatMa\"   \n",
       "11141    11142  B00213ERI0  A129QMC08SW3T3  C. Clinger \"CatMa\"   \n",
       "262196  262197  B002AU3K1E  A129QMC08SW3T3  C. Clinger \"CatMa\"   \n",
       "426709  426710  B00213EU7I  A129QMC08SW3T3  C. Clinger \"CatMa\"   \n",
       "\n",
       "        HelpfulnessNumerator  HelpfulnessDenominator  Score        Time  \\\n",
       "262677                     4                       5      5  1240012800   \n",
       "117168                     4                       5      5  1240012800   \n",
       "11141                      4                       5      5  1240012800   \n",
       "262196                     4                       5      5  1240012800   \n",
       "426709                     4                       5      5  1240012800   \n",
       "\n",
       "               Summary                                               Text  \\\n",
       "262677  ! Mmmmmmmmmm !  What a wonderful surprise to find LUCY's on Am...   \n",
       "117168  ! Mmmmmmmmmm !  What a wonderful surprise to find LUCY's on Am...   \n",
       "11141   ! Mmmmmmmmmm !  What a wonderful surprise to find LUCY's on Am...   \n",
       "262196  ! Mmmmmmmmmm !  What a wonderful surprise to find LUCY's on Am...   \n",
       "426709  ! Mmmmmmmmmm !  What a wonderful surprise to find LUCY's on Am...   \n",
       "\n",
       "        review_length  \n",
       "262677            524  \n",
       "117168            524  \n",
       "11141             524  \n",
       "262196            524  \n",
       "426709            524  "
      ]
     },
     "execution_count": 101,
     "metadata": {},
     "output_type": "execute_result"
    }
   ],
   "source": [
    "duplicates = df.loc[df.duplicated(subset=['Text'], keep=False)]\n",
    "print(\"There are a total of {} reviews with duplicates in the dataset\".format(len(duplicates)))\n",
    "duplicates.sort_values('Summary').head(5)"
   ]
  },
  {
   "cell_type": "markdown",
   "metadata": {},
   "source": [
    "Turns out there are a LOT of duplicates. By sorting on the \"Summary\" we can see a potential source of the problem - the while the reviews appear to be duplicates, and the product ID is different. This suggests that the dataset contains multiple product IDs that map to the same product - perhaps the same product being sold by different sellers, but with the same aggregated review data. \n",
    "<br><br>\n",
    "Before deciding how to deal with this, are there any true duplicates in the data? A true duplicate would be a review that is word for word identical, for the same product ID, and associated with th same user ID."
   ]
  },
  {
   "cell_type": "code",
   "execution_count": 102,
   "metadata": {},
   "outputs": [
    {
     "name": "stdout",
     "output_type": "stream",
     "text": [
      "There are a total of 2036 truly duplicated reviews in the dataset\n"
     ]
    }
   ],
   "source": [
    "true_duplicates = df.loc[df.duplicated(subset=['ProductId', 'UserId', 'Text'], keep=False)]\n",
    "print(\"There are a total of {} truly duplicated reviews in the dataset\".format(len(true_duplicates)))\n",
    "del true_duplicates"
   ]
  },
  {
   "cell_type": "markdown",
   "metadata": {},
   "source": [
    "So, there are in fact a couple thousand reviews which really are duplicates, and these should be dropped before revisiting the others. "
   ]
  },
  {
   "cell_type": "code",
   "execution_count": 103,
   "metadata": {},
   "outputs": [
    {
     "name": "stdout",
     "output_type": "stream",
     "text": [
      "There are a total of 212554 reviews with duplicates in the dataset\n"
     ]
    }
   ],
   "source": [
    "df = df.drop_duplicates(subset=['ProductId', 'Text', 'UserId'])\n",
    "#now we are just looking to see where a user's review has been duplicated\n",
    "duplicates = df.loc[df.duplicated(subset=['ProfileName','Text'], keep=False)]\n",
    "print(\"There are a total of {} reviews with duplicates in the dataset\".format(len(duplicates)))"
   ]
  },
  {
   "cell_type": "code",
   "execution_count": 104,
   "metadata": {},
   "outputs": [
    {
     "name": "stdout",
     "output_type": "stream",
     "text": [
      "There are a total of 4253 products in the dataset with at least one duplicate review.\n",
      "How many duplicates are appearing for each product?\n"
     ]
    },
    {
     "data": {
      "text/plain": [
       "[<matplotlib.text.Text at 0x132ac4400>,\n",
       " <matplotlib.text.Text at 0x10d2462b0>,\n",
       " <matplotlib.text.Text at 0x132af4828>]"
      ]
     },
     "execution_count": 104,
     "metadata": {},
     "output_type": "execute_result"
    },
    {
     "data": {
      "image/png": "[encoded data removed]",
      "text/plain": [
       "<matplotlib.figure.Figure at 0x1090ddd68>"
      ]
     },
     "metadata": {},
     "output_type": "display_data"
    }
   ],
   "source": [
    "print(\"There are a total of {} products in the dataset with at least one duplicate review.\".format(\n",
    "        len(duplicates[\"ProductId\"].unique())))\n",
    "print(\"How many duplicates are appearing for each product?\")\n",
    "fig, ax = plt.subplots()\n",
    "duplicates['ProductId'].value_counts().sort_values().plot(kind='hist')\n",
    "ax.set(title=\"# of Duplicate Reviews per Product in the Amazon Data\", xlabel=\"Number of Duplicate Reviews per Product\", ylabel=\"# of Products\")"
   ]
  },
  {
   "cell_type": "markdown",
   "metadata": {},
   "source": [
    "Are any of the review sets (set of all reviews for a product) are completely and entirely identical between products? If so, we could deal with those simply by dropping one of the products out of the dataset."
   ]
  },
  {
   "cell_type": "code",
   "execution_count": 105,
   "metadata": {},
   "outputs": [
    {
     "data": {
      "text/plain": [
       "B002QWHJOU    630\n",
       "B0026RQTGE    630\n",
       "B002QWP8H0    630\n",
       "B002QWP89S    630\n",
       "B006HYLW32    562\n",
       "B0026KPDG8    562\n",
       "B0013NUGDE    562\n",
       "B0026KNQSA    562\n",
       "B001RVFEP2    562\n",
       "B000VK8AVK    562\n",
       "Name: ProductId, dtype: int64"
      ]
     },
     "execution_count": 105,
     "metadata": {},
     "output_type": "execute_result"
    }
   ],
   "source": [
    "duplicate_counts = duplicates['ProductId'].value_counts().sort_values(ascending=False)\n",
    "duplicate_counts.head(10)"
   ]
  },
  {
   "cell_type": "markdown",
   "metadata": {},
   "source": [
    "The identical numbers of duplicates for some of the product names suggest that those products might be equivalent. To test this:\n",
    "1. Check if the number of reviews for each of the products in the full dataframe is equal (if not, it means that they overlap but are not exact duplicates)\n",
    "2. Visually inspect some rows \n",
    "3. Conduct a duplicates search as an extra verification that everything is really identical"
   ]
  },
  {
   "cell_type": "code",
   "execution_count": 106,
   "metadata": {},
   "outputs": [
    {
     "name": "stdout",
     "output_type": "stream",
     "text": [
      "630\n",
      "630\n"
     ]
    }
   ],
   "source": [
    "print(len(df[df['ProductId']=='B0026RQTGE'])) \n",
    "print(len(df[df['ProductId']=='B002QWP89S']))"
   ]
  },
  {
   "cell_type": "code",
   "execution_count": 107,
   "metadata": {},
   "outputs": [
    {
     "data": {
      "text/html": [
       "<div>\n",
       "<style scoped>\n",
       "    .dataframe tbody tr th:only-of-type {\n",
       "        vertical-align: middle;\n",
       "    }\n",
       "\n",
       "    .dataframe tbody tr th {\n",
       "        vertical-align: top;\n",
       "    }\n",
       "\n",
       "    .dataframe thead th {\n",
       "        text-align: right;\n",
       "    }\n",
       "</style>\n",
       "<table border=\"1\" class=\"dataframe\">\n",
       "  <thead>\n",
       "    <tr style=\"text-align: right;\">\n",
       "      <th></th>\n",
       "      <th>Id</th>\n",
       "      <th>ProductId</th>\n",
       "      <th>UserId</th>\n",
       "      <th>ProfileName</th>\n",
       "      <th>HelpfulnessNumerator</th>\n",
       "      <th>HelpfulnessDenominator</th>\n",
       "      <th>Score</th>\n",
       "      <th>Time</th>\n",
       "      <th>Summary</th>\n",
       "      <th>Text</th>\n",
       "      <th>review_length</th>\n",
       "    </tr>\n",
       "  </thead>\n",
       "  <tbody>\n",
       "    <tr>\n",
       "      <th>74631</th>\n",
       "      <td>74632</td>\n",
       "      <td>B0026RQTGE</td>\n",
       "      <td>A21U4DR8M6I9QN</td>\n",
       "      <td>K. M Merrill \"justine\"</td>\n",
       "      <td>1</td>\n",
       "      <td>1</td>\n",
       "      <td>5</td>\n",
       "      <td>1318896000</td>\n",
       "      <td>addictive! but works for night coughing in dogs</td>\n",
       "      <td>my 12 year old sheltie has chronic brochotitis...</td>\n",
       "      <td>632</td>\n",
       "    </tr>\n",
       "    <tr>\n",
       "      <th>74632</th>\n",
       "      <td>74633</td>\n",
       "      <td>B0026RQTGE</td>\n",
       "      <td>A17TDUBB4Z1PEC</td>\n",
       "      <td>jaded_green</td>\n",
       "      <td>1</td>\n",
       "      <td>1</td>\n",
       "      <td>5</td>\n",
       "      <td>1318550400</td>\n",
       "      <td>genuine Greenies best price</td>\n",
       "      <td>These are genuine Greenies product, not a knoc...</td>\n",
       "      <td>326</td>\n",
       "    </tr>\n",
       "    <tr>\n",
       "      <th>74633</th>\n",
       "      <td>74634</td>\n",
       "      <td>B0026RQTGE</td>\n",
       "      <td>ABQH3WAWMSMBH</td>\n",
       "      <td>tenisbrat87</td>\n",
       "      <td>1</td>\n",
       "      <td>1</td>\n",
       "      <td>5</td>\n",
       "      <td>1317168000</td>\n",
       "      <td>Perfect for our little doggies</td>\n",
       "      <td>Our dogs love Greenies, but of course, which d...</td>\n",
       "      <td>182</td>\n",
       "    </tr>\n",
       "  </tbody>\n",
       "</table>\n",
       "</div>"
      ],
      "text/plain": [
       "          Id   ProductId          UserId             ProfileName  \\\n",
       "74631  74632  B0026RQTGE  A21U4DR8M6I9QN  K. M Merrill \"justine\"   \n",
       "74632  74633  B0026RQTGE  A17TDUBB4Z1PEC             jaded_green   \n",
       "74633  74634  B0026RQTGE   ABQH3WAWMSMBH             tenisbrat87   \n",
       "\n",
       "       HelpfulnessNumerator  HelpfulnessDenominator  Score        Time  \\\n",
       "74631                     1                       1      5  1318896000   \n",
       "74632                     1                       1      5  1318550400   \n",
       "74633                     1                       1      5  1317168000   \n",
       "\n",
       "                                               Summary  \\\n",
       "74631  addictive! but works for night coughing in dogs   \n",
       "74632                      genuine Greenies best price   \n",
       "74633                   Perfect for our little doggies   \n",
       "\n",
       "                                                    Text  review_length  \n",
       "74631  my 12 year old sheltie has chronic brochotitis...            632  \n",
       "74632  These are genuine Greenies product, not a knoc...            326  \n",
       "74633  Our dogs love Greenies, but of course, which d...            182  "
      ]
     },
     "execution_count": 107,
     "metadata": {},
     "output_type": "execute_result"
    }
   ],
   "source": [
    "df[df['ProductId']=='B0026RQTGE'].head(3)"
   ]
  },
  {
   "cell_type": "code",
   "execution_count": 108,
   "metadata": {},
   "outputs": [
    {
     "data": {
      "text/html": [
       "<div>\n",
       "<style scoped>\n",
       "    .dataframe tbody tr th:only-of-type {\n",
       "        vertical-align: middle;\n",
       "    }\n",
       "\n",
       "    .dataframe tbody tr th {\n",
       "        vertical-align: top;\n",
       "    }\n",
       "\n",
       "    .dataframe thead th {\n",
       "        text-align: right;\n",
       "    }\n",
       "</style>\n",
       "<table border=\"1\" class=\"dataframe\">\n",
       "  <thead>\n",
       "    <tr style=\"text-align: right;\">\n",
       "      <th></th>\n",
       "      <th>Id</th>\n",
       "      <th>ProductId</th>\n",
       "      <th>UserId</th>\n",
       "      <th>ProfileName</th>\n",
       "      <th>HelpfulnessNumerator</th>\n",
       "      <th>HelpfulnessDenominator</th>\n",
       "      <th>Score</th>\n",
       "      <th>Time</th>\n",
       "      <th>Summary</th>\n",
       "      <th>Text</th>\n",
       "      <th>review_length</th>\n",
       "    </tr>\n",
       "  </thead>\n",
       "  <tbody>\n",
       "    <tr>\n",
       "      <th>20982</th>\n",
       "      <td>20983</td>\n",
       "      <td>B002QWP89S</td>\n",
       "      <td>A21U4DR8M6I9QN</td>\n",
       "      <td>K. M Merrill \"justine\"</td>\n",
       "      <td>1</td>\n",
       "      <td>1</td>\n",
       "      <td>5</td>\n",
       "      <td>1318896000</td>\n",
       "      <td>addictive! but works for night coughing in dogs</td>\n",
       "      <td>my 12 year old sheltie has chronic brochotitis...</td>\n",
       "      <td>632</td>\n",
       "    </tr>\n",
       "    <tr>\n",
       "      <th>20983</th>\n",
       "      <td>20984</td>\n",
       "      <td>B002QWP89S</td>\n",
       "      <td>A17TDUBB4Z1PEC</td>\n",
       "      <td>jaded_green</td>\n",
       "      <td>1</td>\n",
       "      <td>1</td>\n",
       "      <td>5</td>\n",
       "      <td>1318550400</td>\n",
       "      <td>genuine Greenies best price</td>\n",
       "      <td>These are genuine Greenies product, not a knoc...</td>\n",
       "      <td>326</td>\n",
       "    </tr>\n",
       "    <tr>\n",
       "      <th>20984</th>\n",
       "      <td>20985</td>\n",
       "      <td>B002QWP89S</td>\n",
       "      <td>ABQH3WAWMSMBH</td>\n",
       "      <td>tenisbrat87</td>\n",
       "      <td>1</td>\n",
       "      <td>1</td>\n",
       "      <td>5</td>\n",
       "      <td>1317168000</td>\n",
       "      <td>Perfect for our little doggies</td>\n",
       "      <td>Our dogs love Greenies, but of course, which d...</td>\n",
       "      <td>182</td>\n",
       "    </tr>\n",
       "  </tbody>\n",
       "</table>\n",
       "</div>"
      ],
      "text/plain": [
       "          Id   ProductId          UserId             ProfileName  \\\n",
       "20982  20983  B002QWP89S  A21U4DR8M6I9QN  K. M Merrill \"justine\"   \n",
       "20983  20984  B002QWP89S  A17TDUBB4Z1PEC             jaded_green   \n",
       "20984  20985  B002QWP89S   ABQH3WAWMSMBH             tenisbrat87   \n",
       "\n",
       "       HelpfulnessNumerator  HelpfulnessDenominator  Score        Time  \\\n",
       "20982                     1                       1      5  1318896000   \n",
       "20983                     1                       1      5  1318550400   \n",
       "20984                     1                       1      5  1317168000   \n",
       "\n",
       "                                               Summary  \\\n",
       "20982  addictive! but works for night coughing in dogs   \n",
       "20983                      genuine Greenies best price   \n",
       "20984                   Perfect for our little doggies   \n",
       "\n",
       "                                                    Text  review_length  \n",
       "20982  my 12 year old sheltie has chronic brochotitis...            632  \n",
       "20983  These are genuine Greenies product, not a knoc...            326  \n",
       "20984  Our dogs love Greenies, but of course, which d...            182  "
      ]
     },
     "execution_count": 108,
     "metadata": {},
     "output_type": "execute_result"
    }
   ],
   "source": [
    "df[df['ProductId']=='B002QWP89S'].head(3)"
   ]
  },
  {
   "cell_type": "code",
   "execution_count": 109,
   "metadata": {},
   "outputs": [
    {
     "data": {
      "text/plain": [
       "1260"
      ]
     },
     "execution_count": 109,
     "metadata": {},
     "output_type": "execute_result"
    }
   ],
   "source": [
    "len(df[df['ProductId'].isin(['B002QWP89S','B0026RQTGE'])].duplicated(subset=['Text'], keep=False))"
   ]
  },
  {
   "cell_type": "markdown",
   "metadata": {},
   "source": [
    "To handle these instances, drop one of the duplicate products wherever the review corpus is an exact duplicate of another product's review corpus. "
   ]
  },
  {
   "cell_type": "code",
   "execution_count": 121,
   "metadata": {
    "scrolled": true
   },
   "outputs": [],
   "source": [
    "duplicates = df.loc[df.duplicated(subset=['UserId','Text'], keep=False)]\n",
    "duplicate_counts = duplicates['ProductId'].value_counts().sort_values(ascending=False)\n",
    "\n",
    "matches = []\n",
    "dropped = []\n",
    "\n",
    "for product in reversed(duplicate_counts.index.values):\n",
    "    if product in dropped:\n",
    "        continue\n",
    "    else:\n",
    "        matches = duplicate_counts.loc[(duplicate_counts==duplicate_counts.loc[product])\\\n",
    "                                       &(duplicate_counts.index!=product)]\n",
    "        if len(matches)==0:\n",
    "            continue\n",
    "        else:\n",
    "            for m in matches.index.values:\n",
    "                #print(\"checking match {}\".format(m))\n",
    "                pair = df.loc[df['ProductId'].isin([product, m])]\n",
    "                pair_dup = pair.loc[pair.duplicated(subset=[\"UserId\", 'Text'], keep=False)]\n",
    "                if len(pair_dup) == duplicate_counts[product]*2:\n",
    "                    df = df.drop(labels=df.loc[df['ProductId']==m].index.values,axis=0)\n",
    "                    duplicate_counts.drop(labels=m, axis=0, inplace=True)\n",
    "                    matches.drop(labels=m, axis=0, inplace=True)\n",
    "                    dropped.append(m)\n",
    "                    #print(\"dropped match {}\".format(m))"
   ]
  },
  {
   "cell_type": "code",
   "execution_count": 122,
   "metadata": {},
   "outputs": [
    {
     "data": {
      "text/plain": [
       "1044"
      ]
     },
     "execution_count": 122,
     "metadata": {},
     "output_type": "execute_result"
    }
   ],
   "source": [
    "len(df.loc[df.duplicated(subset=['Text'], keep=False)])"
   ]
  },
  {
   "cell_type": "markdown",
   "metadata": {},
   "source": [
    "So after all that, the number of duplicate reviews is down from ~212K  to about 90K. How to handle the rest? Examine a few to see what is going on. The first loop above was looking for large blocks of identical reviews that could be deleted."
   ]
  },
  {
   "cell_type": "code",
   "execution_count": 125,
   "metadata": {},
   "outputs": [
    {
     "data": {
      "text/plain": [
       "[<matplotlib.text.Text at 0x10d260cf8>,\n",
       " <matplotlib.text.Text at 0x108d73668>,\n",
       " <matplotlib.text.Text at 0x10d264828>]"
      ]
     },
     "execution_count": 125,
     "metadata": {},
     "output_type": "execute_result"
    },
    {
     "data": {
      "image/png": "[encoded data removed]",
      "text/plain": [
       "<matplotlib.figure.Figure at 0x10d978be0>"
      ]
     },
     "metadata": {},
     "output_type": "display_data"
    }
   ],
   "source": [
    "# refresh the duplicate counts list\n",
    "duplicates = df.loc[df.duplicated(subset=['Text'], keep=False)]\n",
    "\n",
    "duplicate_counts = duplicates['ProductId'].value_counts().sort_values(ascending=False)\n",
    "fig, ax = plt.subplots()\n",
    "duplicates['ProductId'].value_counts().sort_values().plot(kind='hist')\n",
    "ax.set(title=\"# of Duplicate Reviews per Product in the Amazon Data\", xlabel=\"Number of Duplicate Reviews per Product\", ylabel=\"# of Products\")"
   ]
  },
  {
   "cell_type": "markdown",
   "metadata": {},
   "source": [
    "The remaining duplicate counts are so low we won't be looking at those products anyway, so we can move forward. "
   ]
  },
  {
   "cell_type": "markdown",
   "metadata": {},
   "source": [
    "### Take just the top ten products by number of reviews\n",
    "Lastly, to compress the dataset, we can now drop out all reviews that aren't for products in the top ten."
   ]
  },
  {
   "cell_type": "code",
   "execution_count": null,
   "metadata": {},
   "outputs": [],
   "source": [
    "# drop out reviews for products we don't need\n",
    "#df = df.loc[df[\"ProductId\"].isin(top_ten)]\n",
    "#df.to_csv('reviews_subset.csv')\n",
    "#len(df)"
   ]
  },
  {
   "cell_type": "code",
   "execution_count": 45,
   "metadata": {},
   "outputs": [],
   "source": [
    "# read in the compressed dataset\n",
    "df = pd.read_csv('reviews_subset.csv')"
   ]
  },
  {
   "cell_type": "markdown",
   "metadata": {},
   "source": [
    "# Data Cleansing & Prep\n",
    "Next is the process of cleansing the text data so that it can be used by the topic modelling and sentiment classification packages. I'll do as much of this as possible using the pandas library, to take advantage of vectorized operations on the dataframe.\n",
    "\n",
    "Steps are as follows:\n",
    "\n",
    "1. Remove html markup and any empty reviews\n",
    "2. Expand contractions\n",
    "3. Insert sentiment codewords\n",
    "3. Lemmatize (break the words down to their stem)\n",
    "4. Remove stop words, punctuation, and numbers\n",
    "\n",
    "<br><br> What do the reviews look like?"
   ]
  },
  {
   "cell_type": "code",
   "execution_count": 49,
   "metadata": {},
   "outputs": [
    {
     "data": {
      "text/plain": [
       "'My dogs love this and each figured out different techniques to get food out - took a while for them to get good at it. The Pit Bull holds her paws around the rubber ring and turns it over to pour some out. The Heinz 57 bats it around until something falls out, just beginning to hold the rope with 1 paw and hit the jug with the other. They are tied for time to get all the treats out!<br /><br />This cannot be played with on tile or wood floors - too noisy for people and jug slides too much for dogs. It would work in a crate, but I won\\'t leave my dogs alone with ANY toy of this sort.<br /><br />It is hard to find dog goodies that will come out most are too thick to pass through. Charlee Bear Treats(any flavor) <a href=\"http://www.amazon.com/gp/product/B0002QX3Q0\">Charlee Bear Dog Treats 16Oz Zip Pack Cheese/Egg</a> work perfectly as do larger sized cat treats. I love watching the dogs as they figure out a new way to make it work. No one has eaten off the rubber ring (the toy would still work if they did) and no one has chewed off the rope. (You could replace the rope or put in some sort of ball as someone else did.)<br /><br />I\\'d have given this 5 stars except for the noise on hard floors.'"
      ]
     },
     "execution_count": 49,
     "metadata": {},
     "output_type": "execute_result"
    }
   ],
   "source": [
    "df.iloc[90]['Text']"
   ]
  },
  {
   "cell_type": "markdown",
   "metadata": {},
   "source": [
    "### 1. Remove html markup and any empty reviews\n",
    "\n",
    "First, clean the html markup out of the reviews, including general markup and specifically links, which sometimes appear and cause name of the product to be repeated into the review as seen in the example above."
   ]
  },
  {
   "cell_type": "code",
   "execution_count": 50,
   "metadata": {},
   "outputs": [
    {
     "data": {
      "text/plain": [
       "\"My dogs love this and each figured out different techniques to get food out - took a while for them to get good at it. The Pit Bull holds her paws around the rubber ring and turns it over to pour some out. The Heinz 57 bats it around until something falls out, just beginning to hold the rope with 1 paw and hit the jug with the other. They are tied for time to get all the treats out!  This cannot be played with on tile or wood floors - too noisy for people and jug slides too much for dogs. It would work in a crate, but I won't leave my dogs alone with ANY toy of this sort.  It is hard to find dog goodies that will come out most are too thick to pass through. Charlee Bear Treats(any flavor)  work perfectly as do larger sized cat treats. I love watching the dogs as they figure out a new way to make it work. No one has eaten off the rubber ring (the toy would still work if they did) and no one has chewed off the rope. (You could replace the rope or put in some sort of ball as someone else did.)  I'd have given this 5 stars except for the noise on hard floors.\""
      ]
     },
     "execution_count": 50,
     "metadata": {},
     "output_type": "execute_result"
    }
   ],
   "source": [
    "# first clean the html markup out of the reviews\n",
    "import re\n",
    "tags = re.compile('<.*?>')\n",
    "urls = re.compile('<a.*?>.*?</a>')\n",
    "df[\"clean_review\"] = df['Text'].str.replace(urls, \"\")\n",
    "df[\"clean_review\"] = df[\"clean_review\"].str.replace(tags, \" \")\n",
    "df.iloc[90]['clean_review']"
   ]
  },
  {
   "cell_type": "code",
   "execution_count": 52,
   "metadata": {},
   "outputs": [],
   "source": [
    "# drop out reviews that contain no text at this time\n",
    "# save off the updated data\n",
    "\n",
    "df.drop(df.loc[df['clean_review'].isnull()].index, inplace=True)\n",
    "df.to_csv(\"reviews_subset.csv\")"
   ]
  },
  {
   "cell_type": "markdown",
   "metadata": {},
   "source": [
    "### 2. Expand contractions\n",
    "\n",
    "Next, expand contractions so that we can remove punctuation. There are many lists of general English contractions available on the internet; I've created a custom one that does not rely on too many assumptions about what a contraction means in context. That means some contractions will remain, have the apostrophes removed later and result in non-words, but those that remain are unlikely to be important for topic modelling or sentiment analysis. To do this, the reviews will also need to be uniformly cased."
   ]
  },
  {
   "cell_type": "code",
   "execution_count": 59,
   "metadata": {},
   "outputs": [
    {
     "data": {
      "text/plain": [
       "\"I have a pitbull who loves her treats I'm obsessed with keeping her healthy so these work great on her teeth and they're a great price!\""
      ]
     },
     "execution_count": 59,
     "metadata": {},
     "output_type": "execute_result"
    }
   ],
   "source": [
    "df.iloc[1245]['clean_review']"
   ]
  },
  {
   "cell_type": "code",
   "execution_count": 62,
   "metadata": {},
   "outputs": [],
   "source": [
    "# import the contractions dictionary\n",
    "import pickle\n",
    "with open(\"contractions_dict.txt\", \"rb\") as f:\n",
    "    contractions_dict = pickle.load(f)"
   ]
  },
  {
   "cell_type": "code",
   "execution_count": 63,
   "metadata": {},
   "outputs": [
    {
     "data": {
      "text/plain": [
       "'i have a pitbull who loves her treats i am obsessed with keeping her healthy so these work great on her teeth and they are a great price!'"
      ]
     },
     "execution_count": 63,
     "metadata": {},
     "output_type": "execute_result"
    }
   ],
   "source": [
    "# expand contractions\n",
    "df[\"clean_review\"] = df[\"clean_review\"].str.lower().replace(contractions_dict, regex=True)\n",
    "\n",
    "df.iloc[1245]['clean_review']"
   ]
  },
  {
   "cell_type": "markdown",
   "metadata": {},
   "source": [
    "### 3. Insert sentiment codewords\n",
    "\n",
    "To insert the codewords, I will be using a couple of different methods available in the NLTK library, with some modification. First, NLTK makes available the Liu-Hu opinion lexicon, which I will test for simply labelling positive vs. negative words. To do that, I need to handle negation properly as well.<br><br>\n",
    "To accomplish this I have modified a utility method from the NLTK utils module, authored by Pierpaolo Pantone, with regular expressions by Christopher Potts. The original method, mark_negation, simply appends \"\\_NEG\" \"to any words that appear in the scope between a negation and a punctuation mark. "
   ]
  },
  {
   "cell_type": "code",
   "execution_count": 200,
   "metadata": {},
   "outputs": [],
   "source": [
    "from nltk.sentiment.sentiment_analyzer import SentimentAnalyzer\n",
    "from nltk.corpus import opinion_lexicon\n",
    "from nltk.corpus import wordnet as wn\n",
    "from nltk import wordpunct_tokenize\n",
    "from nltk import WordNetLemmatizer\n",
    "from nltk import sent_tokenize\n",
    "from nltk import pos_tag\n",
    "from nltk.corpus import stopwords"
   ]
  },
  {
   "cell_type": "code",
   "execution_count": 217,
   "metadata": {},
   "outputs": [],
   "source": [
    "# create sets for all the words that are positive vs negative from the Liu-Hu lexicon\n",
    "# it's faster to check the presence of an item in a set (vs. a list)\n",
    "negative = set(opinion_lexicon.negative())\n",
    "positive = set(opinion_lexicon.positive())"
   ]
  },
  {
   "cell_type": "code",
   "execution_count": 218,
   "metadata": {},
   "outputs": [],
   "source": [
    "with open(\"negatives_remove.txt\", \"rb\") as f:\n",
    "    negatives_remove = pickle.load(f)\n",
    "\n",
    "with open(\"positives_remove.txt\", \"rb\") as f:\n",
    "    positives_remove = pickle.load(f)"
   ]
  },
  {
   "cell_type": "code",
   "execution_count": 219,
   "metadata": {},
   "outputs": [],
   "source": [
    "negative -= negatives_remove\n",
    "positive -= positives_remove"
   ]
  },
  {
   "cell_type": "code",
   "execution_count": null,
   "metadata": {},
   "outputs": [],
   "source": []
  },
  {
   "cell_type": "code",
   "execution_count": 188,
   "metadata": {},
   "outputs": [],
   "source": [
    "# Regular expression for negation by Christopher Potts\n",
    "from copy import deepcopy\n",
    "# one modification here - I added \"too\" as a negating word, \n",
    "# as users most often use \"too\" in a review to indicate something they didn't like.\n",
    "\n",
    "NEGATION = r\"\"\"\n",
    "    (?:\n",
    "        ^(?:never|no|nothing|nowhere|noone|none|not|\n",
    "            havent|hasnt|hadnt|cant|couldnt|shouldnt|\n",
    "            wont|wouldnt|dont|doesnt|didnt|isnt|too|arent|aint\n",
    "        )$\n",
    "    )\n",
    "    |\n",
    "    n't\"\"\"\n",
    "\n",
    "NEGATION_RE = re.compile(NEGATION, re.VERBOSE)\n",
    "\n",
    "CLAUSE_PUNCT = r'^[.,:;!?]$'\n",
    "CLAUSE_PUNCT_RE = re.compile(CLAUSE_PUNCT)\n",
    "\n",
    "# Happy and sad emoticons\n",
    "\n",
    "HAPPY = set([\n",
    "    ':-)', ':)', ';)', ':o)', ':]', ':3', ':c)', ':>', '=]', '8)', '=)', ':}',\n",
    "    ':^)', ':-D', ':D', '8-D', '8D', 'x-D', 'xD', 'X-D', 'XD', '=-D', '=D',\n",
    "    '=-3', '=3', ':-))', \":'-)\", \":')\", ':*', ':^*', '>:P', ':-P', ':P', 'X-P',\n",
    "    'x-p', 'xp', 'XP', ':-p', ':p', '=p', ':-b', ':b', '>:)', '>;)', '>:-)',\n",
    "    '<3'\n",
    "    ])\n",
    "\n",
    "SAD = set([\n",
    "    ':L', ':-/', '>:/', ':S', '>:[', ':@', ':-(', ':[', ':-||', '=L', ':<',\n",
    "    ':-[', ':-<', '=\\\\', '=/', '>:(', ':(', '>.<', \":'-(\", \":'(\", ':\\\\', ':-c',\n",
    "    ':c', ':{', '>:\\\\', ';('\n",
    "    ])\n"
   ]
  },
  {
   "cell_type": "code",
   "execution_count": 221,
   "metadata": {},
   "outputs": [],
   "source": [
    "def mark_negation(document, double_neg_flip=False, shallow=False):\n",
    "    \"\"\"\n",
    "    Based on the original mark_negation method by Pierpaolo Pantone in nltk.utils.\n",
    "    Accounts for both sentiment (based on Liu-Hu opinion lexicon) and negation to add the words \"BADREVIEW\"\n",
    "    and \"GOODREVIEW\" where appropriate after words in the passed document.\n",
    "\n",
    "    :param document: a group of words/tokens, or a tuple (words, label).\n",
    "    :param shallow: if True, the method will modify the original document in place.\n",
    "    :param double_neg_flip: if True, double negation is considered affirmation\n",
    "        (we activate/deactivate negation scope everytime we find a negation).\n",
    "    :return: if `shallow == True` the method will modify the original document\n",
    "        and return it. If `shallow == False` the method will return a modified\n",
    "        document, leaving the original unmodified. Also removes punctuation. \n",
    "\n",
    "    >>> sent = \"I didn't like this movie . It was bad.\"\n",
    "    >>> mark_negation(sent)\n",
    "    ['i did not like BADREVIEW this movie it was bad BADREVIEW']\n",
    "    \"\"\"\n",
    "    if not shallow:\n",
    "        document = deepcopy(document)\n",
    "    if type(document) == list:\n",
    "        document =' '.join(document)\n",
    "        document = re.sub(r' ([^A-Za-z0-9])', r'\\1', document)\n",
    "    # check if the document is labeled. If so, do not consider the label.\n",
    "    #labeled = document and isinstance(document[0], (tuple, list))\n",
    "    #if labeled:\n",
    "    #    doc = document[0]\n",
    "    #else:\n",
    "    #    doc = document\n",
    "    doc = wordpunct_tokenize(document)\n",
    "    neg_scope = False\n",
    "    for i, word in enumerate(doc):\n",
    "        if NEGATION_RE.search(word):\n",
    "            if not neg_scope or (neg_scope and double_neg_flip):\n",
    "                neg_scope = not neg_scope\n",
    "                if word in positive:\n",
    "                    doc[i]+= ' GOODREVIEW'\n",
    "                elif word in negative:\n",
    "                    doc[i]+= ' BADREVIEW'\n",
    "                #continue\n",
    "            else:\n",
    "                if word in positive:\n",
    "                    doc[i] += ' BADREVIEW'\n",
    "                elif word in negative:\n",
    "                    doc[i] += ' GOODREVIEW'\n",
    "        elif neg_scope and CLAUSE_PUNCT_RE.search(word):\n",
    "            neg_scope = not neg_scope\n",
    "            if word in positive:\n",
    "                doc[i]+= ' GOODREVIEW'\n",
    "            elif word in negative:\n",
    "                doc[i]+= ' BADREVIEW'\n",
    "        elif neg_scope and not CLAUSE_PUNCT_RE.search(word):\n",
    "            if word in positive:\n",
    "                doc[i] += ' BADREVIEW'\n",
    "            elif word in negative:\n",
    "                doc[i] += ' GOODREVIEW'\n",
    "        else:\n",
    "            if word in positive:\n",
    "                doc[i]+= ' GOODREVIEW'\n",
    "            elif word in negative:\n",
    "                doc[i]+= ' BADREVIEW'            \n",
    "    doc = ' '.join(doc)\n",
    "    doc = re.sub(r' ([^A-Za-z0-9])', r'\\1', doc)\n",
    "    return doc\n"
   ]
  },
  {
   "cell_type": "code",
   "execution_count": 220,
   "metadata": {},
   "outputs": [],
   "source": [
    "# make a set out of the vader keys so that it's faster to check presence out of a word\n",
    "from nltk.sentiment.vader import SentimentIntensityAnalyzer\n",
    "vader = SentimentIntensityAnalyzer()\n",
    "vader_lexicon = vader.make_lex_dict()\n",
    "vader_keys = set(vader_lexicon.keys())\n",
    "vader_keys -= positives_remove\n",
    "vader_keys -= negatives_remove"
   ]
  },
  {
   "cell_type": "code",
   "execution_count": 222,
   "metadata": {},
   "outputs": [],
   "source": [
    "# this function marks not only the sentiment of the word, but the intensity of the sentiment\n",
    "def mark_negation_valence(document, double_neg_flip=False, shallow=False):\n",
    "    \"\"\"\n",
    "    Based on the original mark_negation method by Pierpaolo Pantone in nltk.utils.\n",
    "    Accounts for both sentiment (based on Liu-Hu opinion lexicon) and negation to add the words \"BADREVIEW\"\n",
    "    and \"GOODREVIEW\" where appropriate after words in the passed document. Also accounts for sentiment intensity\n",
    "    using VADER lexicon. If a word has a sentiment intensity above a certain threshold, the function will insert\n",
    "    the words \"VGOODREVIEW\" or \"VBADREVIEW.\"\n",
    "\n",
    "    :param document: a group of words/tokens, or a tuple (words, label).\n",
    "    :param shallow: if True, the method will modify the original document in place.\n",
    "    :param double_neg_flip: if True, double negation is considered affirmation\n",
    "        (we activate/deactivate negation scope everytime we find a negation).\n",
    "    :return: if `shallow == True` the method will modify the original document\n",
    "        and return it. If `shallow == False` the method will return a modified\n",
    "        document, leaving the original unmodified. Returns a string with punctuation removed. \n",
    "\n",
    "    >>> sent = \"I did not like this movie . It was terrible.\"\n",
    "    >>> mark_negation(sent)\n",
    "    ['i did not like BADREVIEW this movie at all it was terrible VBADREVIEW']\n",
    "    \"\"\"\n",
    "    if not shallow:\n",
    "        document = deepcopy(document)\n",
    "    # check if the document is labeled. If so, do not consider the label.\n",
    "    #labeled = document and isinstance(document[0], (tuple, list))\n",
    "    #if labeled:\n",
    "    #    doc = document[0]\n",
    "    #else:\n",
    "    #    doc = document\n",
    "    if type(document) == list:\n",
    "        document = ' '.join(document)\n",
    "        document = re.sub(r' ([^A-Za-z0-9])', r'\\1', document)\n",
    "    doc = wordpunct_tokenize(document)\n",
    "    neg_scope = False\n",
    "    for i, word in enumerate(doc):\n",
    "        if word in vader_keys: # if we have a sentiment word\n",
    "            if NEGATION_RE.search(word): # search for a negation\n",
    "                if not neg_scope or (neg_scope and double_neg_flip): # check if negative scope or for double negative\n",
    "                    neg_scope = not neg_scope # set negative scope off\n",
    "                    if word in positive: # mark the word according to its vader score\n",
    "                        if vader_lexicon[word] >2:\n",
    "                            doc[i]+= ' VGOODREVIEW'\n",
    "                        else: \n",
    "                            doc[i]+= ' GOODREVIEW'\n",
    "                    elif word in negative:\n",
    "                        if vader_lexicon[word] >2:\n",
    "                            doc[i]+= ' VBADREVIEW'\n",
    "                        else:\n",
    "                            doc[i]+= ' BADREVIEW'\n",
    "                    #continue\n",
    "                else: # the word's sentiment has been reversed\n",
    "                    if word in positive:\n",
    "                        doc[i] += ' BADREVIEW'\n",
    "                    elif word in negative:\n",
    "                        doc[i] += ' GOODREVIEW'\n",
    "            elif neg_scope and CLAUSE_PUNCT_RE.search(word): # punctuation has broken the negative scope\n",
    "                neg_scope = not neg_scope\n",
    "                if word in positive:\n",
    "                    if vader_lexicon[word] >2:\n",
    "                        doc[i]+= ' VGOODREVIEW'\n",
    "                    else:\n",
    "                        doc[i]+= ' GOODREVIEW'\n",
    "                elif word in negative:\n",
    "                    if vader_lexicon[word] >2:\n",
    "                        doc[i]+= ' VBADREVIEW'\n",
    "                    else:\n",
    "                        doc[i]+= ' BADREVIEW'\n",
    "            elif neg_scope and not CLAUSE_PUNCT_RE.search(word): # punctuation has not broken negative scope\n",
    "                if word in positive:\n",
    "                    doc[i] += ' BADREVIEW'\n",
    "                elif word in negative:\n",
    "                    doc[i] += ' GOODREVIEW'\n",
    "            else:\n",
    "                if word in positive:\n",
    "                    if vader_lexicon[word] >2:\n",
    "                        doc[i]+= ' VGOODREVIEW'\n",
    "                    else:\n",
    "                        doc[i]+= ' GOODREVIEW'\n",
    "                elif word in negative:\n",
    "                    if vader_lexicon[word] >2:\n",
    "                        doc[i]+= ' VBADREVIEW'\n",
    "                    else:\n",
    "                        doc[i]+= ' BADREVIEW'\n",
    "        else: # otherwise proceed with normal word labeling\n",
    "            if NEGATION_RE.search(word):\n",
    "                if not neg_scope or (neg_scope and double_neg_flip):\n",
    "                    neg_scope = not neg_scope\n",
    "                    if word in positive:\n",
    "                        doc[i]+= ' GOODREVIEW'\n",
    "                    elif word in negative:\n",
    "                        doc[i]+= ' BADREVIEW'\n",
    "                else:\n",
    "                    if word in positive:\n",
    "                        doc[i] += ' BADREVIEW'\n",
    "                    elif word in negative:\n",
    "                        doc[i] += ' GOODREVIEW'\n",
    "            elif neg_scope and CLAUSE_PUNCT_RE.search(word):\n",
    "                neg_scope = not neg_scope\n",
    "                if word in positive:\n",
    "                    doc[i]+= ' GOODREVIEW'\n",
    "                elif word in negative:\n",
    "                    doc[i]+= ' BADREVIEW'\n",
    "            elif neg_scope and not CLAUSE_PUNCT_RE.search(word):\n",
    "                if word in positive:\n",
    "                    doc[i] += ' BADREVIEW'\n",
    "                elif word in negative:\n",
    "                    doc[i] += ' GOODREVIEW'\n",
    "            else:\n",
    "                if word in positive:\n",
    "                    doc[i]+= ' GOODREVIEW'\n",
    "                elif word in negative:\n",
    "                    doc[i]+= ' BADREVIEW'  \n",
    "    doc = ' '.join(doc)\n",
    "    doc = re.sub(r' ([^A-Za-z0-9])', r'\\1', doc)\n",
    "    return doc"
   ]
  },
  {
   "cell_type": "code",
   "execution_count": 223,
   "metadata": {},
   "outputs": [],
   "source": [
    "# apply the code-wording functions on the text and save the results off to new columns\n",
    "df['coded'] = df['clean_review'].apply(lambda x: mark_negation(x))\n",
    "df['coded_valence'] = df['clean_review'].apply(lambda x: mark_negation_valence(x))\n",
    "df.to_csv('reviews_subset.csv')"
   ]
  },
  {
   "cell_type": "markdown",
   "metadata": {},
   "source": [
    "Below is an example to demonstrate that the approach of tagging words based on sentiment is simplistic, and while the negation words do a decent job at capturing some amount of context, context is often not fully reflected. Additionally, the sentiment tagger is not set up to recognize an idiom with clear negative sentiment: \"I was not a fan.\" Building some of these idioms into the VADER dictionary is a great item to pursue in future work. "
   ]
  },
  {
   "cell_type": "code",
   "execution_count": 224,
   "metadata": {},
   "outputs": [
    {
     "data": {
      "text/plain": [
       "'i do not mind straight coffee on occasion but this tasted like BADREVIEW a strong americano to me but a little more bitter GOODREVIEW. i was not a fan. i prefer GOODREVIEW my coffee to have some sweetness GOODREVIEW and cream. i also think the price is on the high side. you can get the large starbucks cans on sale for 1. 50 a can at your local grocery store.'"
      ]
     },
     "execution_count": 224,
     "metadata": {},
     "output_type": "execute_result"
    }
   ],
   "source": [
    "df.iloc[574]['coded']\n",
    "# example of where the encoding doesn't work perfectly due to more complex sentence structures\n",
    "# and where the simplicity of the method of assigning a sentiment value to a word sometimes doesn't capture context:\n",
    "# for example \"prefer\" here is actually being used to indicate somthing the author did not like about the product"
   ]
  },
  {
   "cell_type": "code",
   "execution_count": 225,
   "metadata": {},
   "outputs": [
    {
     "data": {
      "text/plain": [
       "'i do not mind straight coffee on occasion but this tasted like BADREVIEW a strong americano to me but a little more bitter GOODREVIEW. i was not a fan. i prefer GOODREVIEW my coffee to have some sweetness VGOODREVIEW and cream. i also think the price is on the high side. you can get the large starbucks cans on sale for 1. 50 a can at your local grocery store.'"
      ]
     },
     "execution_count": 225,
     "metadata": {},
     "output_type": "execute_result"
    }
   ],
   "source": [
    "df.iloc[574]['coded_valence']"
   ]
  },
  {
   "cell_type": "markdown",
   "metadata": {},
   "source": [
    "Below is an example where the sentiment codeword tagging has worked quite well and captured the overall sentiment of the review effectively. "
   ]
  },
  {
   "cell_type": "code",
   "execution_count": 226,
   "metadata": {},
   "outputs": [
    {
     "data": {
      "text/plain": [
       "'i liked GOODREVIEW this toy when i first got it and it kept my 1 1/ 2 year old corgi busy for a while. i put his food in it and a few other\" interactive toys\" to keep him busy, this toy is actually too easy BADREVIEW for him and lately he will only get about half the kibble out and then loose interest. the other thing i do not like BADREVIEW is that i cannot wash it without getting the rope all wet. it would be better GOODREVIEW if you could twist off the rope portion and throw it in the dishwasher.'"
      ]
     },
     "execution_count": 226,
     "metadata": {},
     "output_type": "execute_result"
    }
   ],
   "source": [
    "df.iloc[87]['coded']"
   ]
  },
  {
   "cell_type": "markdown",
   "metadata": {},
   "source": [
    "### 4. Lemmatize the text and remove stop words\n",
    "\n",
    "Next I'll be using the NLTK library to tokenize, tag, and lemmatize the text. <br><br>\n",
    "Tokenization refers to splitting a text string document up into its individual elements; these individual items (usually words) are referred to as \"tokens\" in natural language processing. <br><br>\n",
    "Tagging refers to giving each token a tag that tells us its part of speech - noun, verb, etc. The libraries that do this are context-aware, so generally they are successful in determining whether the word \"trip\" is a noun or a verb, for example. <br><br>\n",
    "Finally, lemmatization refers to the process of returning all words to their root, so that \"trying,\" \"tried,\" and \"tries\" would all become \"try\" for example. "
   ]
  },
  {
   "cell_type": "code",
   "execution_count": 228,
   "metadata": {},
   "outputs": [],
   "source": []
  },
  {
   "cell_type": "code",
   "execution_count": 331,
   "metadata": {},
   "outputs": [],
   "source": [
    "# much of the following code is based on a tutorial by Benjamin Bengfort, \n",
    "# whose blog post \"Text Classification with NLTK and Sci-Kit Learn was very helpful to me\n",
    "# https://bbengfort.github.io/tutorials/2016/05/19/text-classification-nltk-sckit-learn.html\n",
    "\n",
    "lemmatizer = WordNetLemmatizer()\n",
    "\n",
    "def lemm(doc):\n",
    "    \"\"\"\n",
    "    This function breaks a document into sentences, tokenizes it and tags the tokens, then lemmatizes each\n",
    "    token and returns the lemma. It also filters out stop words. \n",
    "    Inputs: doc, a document or string of text with sentence punctuation intact\n",
    "    Outputs: yields a lemma for each word in the doc, removing stop words\n",
    "    \"\"\"\n",
    "    if type(doc) == list:\n",
    "        ' '.join(doc)\n",
    "        doc = re.sub(r' ([^A-Za-z0-9])', r'\\1', doc)\n",
    "    for sent in sent_tokenize(doc):    \n",
    "        for token, tag in pos_tag(wordpunct_tokenize(sent)):\n",
    "            #if token not in set(stop_words):\n",
    "            tag = {\n",
    "            'N': wn.NOUN,\n",
    "            'V': wn.VERB,\n",
    "            'R': wn.ADV,\n",
    "            'J': wn.ADJ\n",
    "            }.get(tag[0], wn.NOUN)\n",
    "            lemma = lemmatizer.lemmatize(token, tag)\n",
    "            yield lemma\n",
    "def lemmatize(df, col):\n",
    "    \"\"\"\n",
    "    This function applies the lemm() function to an array of documents. \n",
    "    Input: a pandas dataframe, containing a column \"clean_text\" that is lower-cased with sentence puncuation intact\n",
    "    Output: a list of lists; within each sub-list are the tokenized lemmas corresponding to the original doc\n",
    "    \"\"\"\n",
    "    return [\n",
    "        list(lemm(doc)) for doc in df[col]\n",
    "    ]\n"
   ]
  },
  {
   "cell_type": "code",
   "execution_count": 332,
   "metadata": {},
   "outputs": [],
   "source": [
    "# apply the above functions to the dataframe and save it off\n",
    "# WARNING: this can take ~5min to finish\n",
    "df['lemmas_vanilla'] = lemmatize(df, 'clean_review')\n",
    "df['lemmas_coded'] = lemmatize(df, 'coded')\n",
    "df['lemmas_valence'] = lemmatize(df, 'coded_valence')\n",
    "df.to_csv('reviews_subset.csv')"
   ]
  },
  {
   "cell_type": "code",
   "execution_count": 335,
   "metadata": {},
   "outputs": [
    {
     "data": {
      "text/plain": [
       "['i',\n",
       " 'like',\n",
       " 'this',\n",
       " 'toy',\n",
       " 'when',\n",
       " 'i',\n",
       " 'first',\n",
       " 'get',\n",
       " 'it',\n",
       " 'and',\n",
       " 'it',\n",
       " 'keep',\n",
       " 'my',\n",
       " '1',\n",
       " '1',\n",
       " '/',\n",
       " '2',\n",
       " 'year',\n",
       " 'old',\n",
       " 'corgi',\n",
       " 'busy',\n",
       " 'for',\n",
       " 'a',\n",
       " 'while',\n",
       " '.',\n",
       " 'i',\n",
       " 'put',\n",
       " 'his',\n",
       " 'food',\n",
       " 'in',\n",
       " 'it',\n",
       " 'and',\n",
       " 'a',\n",
       " 'few',\n",
       " 'other',\n",
       " '\"',\n",
       " 'interactive',\n",
       " 'toy',\n",
       " '\"',\n",
       " 'to',\n",
       " 'keep',\n",
       " 'him',\n",
       " 'busy',\n",
       " ',',\n",
       " 'this',\n",
       " 'toy',\n",
       " 'be',\n",
       " 'actually',\n",
       " 'too',\n",
       " 'easy',\n",
       " 'for',\n",
       " 'him',\n",
       " 'and',\n",
       " 'lately',\n",
       " 'he',\n",
       " 'will',\n",
       " 'only',\n",
       " 'get',\n",
       " 'about',\n",
       " 'half',\n",
       " 'the',\n",
       " 'kibble',\n",
       " 'out',\n",
       " 'and',\n",
       " 'then',\n",
       " 'loose',\n",
       " 'interest',\n",
       " '.',\n",
       " 'the',\n",
       " 'other',\n",
       " 'thing',\n",
       " 'i',\n",
       " 'do',\n",
       " 'not',\n",
       " 'like',\n",
       " 'be',\n",
       " 'that',\n",
       " 'i',\n",
       " 'cannot',\n",
       " 'wash',\n",
       " 'it',\n",
       " 'without',\n",
       " 'get',\n",
       " 'the',\n",
       " 'rope',\n",
       " 'all',\n",
       " 'wet',\n",
       " '.',\n",
       " 'it',\n",
       " 'would',\n",
       " 'be',\n",
       " 'good',\n",
       " 'if',\n",
       " 'you',\n",
       " 'could',\n",
       " 'twist',\n",
       " 'off',\n",
       " 'the',\n",
       " 'rope',\n",
       " 'portion',\n",
       " 'and',\n",
       " 'throw',\n",
       " 'it',\n",
       " 'in',\n",
       " 'the',\n",
       " 'dishwasher',\n",
       " '.']"
      ]
     },
     "execution_count": 335,
     "metadata": {},
     "output_type": "execute_result"
    }
   ],
   "source": [
    "df.iloc[87]['lemmas_vanilla']"
   ]
  },
  {
   "cell_type": "code",
   "execution_count": 336,
   "metadata": {},
   "outputs": [
    {
     "data": {
      "text/plain": [
       "['i',\n",
       " 'like',\n",
       " 'GOODREVIEW',\n",
       " 'this',\n",
       " 'toy',\n",
       " 'when',\n",
       " 'i',\n",
       " 'first',\n",
       " 'get',\n",
       " 'it',\n",
       " 'and',\n",
       " 'it',\n",
       " 'keep',\n",
       " 'my',\n",
       " '1',\n",
       " '1',\n",
       " '/',\n",
       " '2',\n",
       " 'year',\n",
       " 'old',\n",
       " 'corgi',\n",
       " 'busy',\n",
       " 'for',\n",
       " 'a',\n",
       " 'while',\n",
       " '.',\n",
       " 'i',\n",
       " 'put',\n",
       " 'his',\n",
       " 'food',\n",
       " 'in',\n",
       " 'it',\n",
       " 'and',\n",
       " 'a',\n",
       " 'few',\n",
       " 'other',\n",
       " '\"',\n",
       " 'interactive',\n",
       " 'toy',\n",
       " '\"',\n",
       " 'to',\n",
       " 'keep',\n",
       " 'him',\n",
       " 'busy',\n",
       " ',',\n",
       " 'this',\n",
       " 'toy',\n",
       " 'be',\n",
       " 'actually',\n",
       " 'too',\n",
       " 'easy',\n",
       " 'BADREVIEW',\n",
       " 'for',\n",
       " 'him',\n",
       " 'and',\n",
       " 'lately',\n",
       " 'he',\n",
       " 'will',\n",
       " 'only',\n",
       " 'get',\n",
       " 'about',\n",
       " 'half',\n",
       " 'the',\n",
       " 'kibble',\n",
       " 'out',\n",
       " 'and',\n",
       " 'then',\n",
       " 'loose',\n",
       " 'interest',\n",
       " '.',\n",
       " 'the',\n",
       " 'other',\n",
       " 'thing',\n",
       " 'i',\n",
       " 'do',\n",
       " 'not',\n",
       " 'like',\n",
       " 'BADREVIEW',\n",
       " 'be',\n",
       " 'that',\n",
       " 'i',\n",
       " 'cannot',\n",
       " 'wash',\n",
       " 'it',\n",
       " 'without',\n",
       " 'get',\n",
       " 'the',\n",
       " 'rope',\n",
       " 'all',\n",
       " 'wet',\n",
       " '.',\n",
       " 'it',\n",
       " 'would',\n",
       " 'be',\n",
       " 'good',\n",
       " 'GOODREVIEW',\n",
       " 'if',\n",
       " 'you',\n",
       " 'could',\n",
       " 'twist',\n",
       " 'off',\n",
       " 'the',\n",
       " 'rope',\n",
       " 'portion',\n",
       " 'and',\n",
       " 'throw',\n",
       " 'it',\n",
       " 'in',\n",
       " 'the',\n",
       " 'dishwasher',\n",
       " '.']"
      ]
     },
     "execution_count": 336,
     "metadata": {},
     "output_type": "execute_result"
    }
   ],
   "source": [
    "df.iloc[87]['lemmas_coded']"
   ]
  },
  {
   "cell_type": "code",
   "execution_count": 337,
   "metadata": {},
   "outputs": [
    {
     "data": {
      "text/plain": [
       "['i',\n",
       " 'like',\n",
       " 'GOODREVIEW',\n",
       " 'this',\n",
       " 'toy',\n",
       " 'when',\n",
       " 'i',\n",
       " 'first',\n",
       " 'get',\n",
       " 'it',\n",
       " 'and',\n",
       " 'it',\n",
       " 'keep',\n",
       " 'my',\n",
       " '1',\n",
       " '1',\n",
       " '/',\n",
       " '2',\n",
       " 'year',\n",
       " 'old',\n",
       " 'corgi',\n",
       " 'busy',\n",
       " 'for',\n",
       " 'a',\n",
       " 'while',\n",
       " '.',\n",
       " 'i',\n",
       " 'put',\n",
       " 'his',\n",
       " 'food',\n",
       " 'in',\n",
       " 'it',\n",
       " 'and',\n",
       " 'a',\n",
       " 'few',\n",
       " 'other',\n",
       " '\"',\n",
       " 'interactive',\n",
       " 'toy',\n",
       " '\"',\n",
       " 'to',\n",
       " 'keep',\n",
       " 'him',\n",
       " 'busy',\n",
       " ',',\n",
       " 'this',\n",
       " 'toy',\n",
       " 'be',\n",
       " 'actually',\n",
       " 'too',\n",
       " 'easy',\n",
       " 'BADREVIEW',\n",
       " 'for',\n",
       " 'him',\n",
       " 'and',\n",
       " 'lately',\n",
       " 'he',\n",
       " 'will',\n",
       " 'only',\n",
       " 'get',\n",
       " 'about',\n",
       " 'half',\n",
       " 'the',\n",
       " 'kibble',\n",
       " 'out',\n",
       " 'and',\n",
       " 'then',\n",
       " 'loose',\n",
       " 'interest',\n",
       " '.',\n",
       " 'the',\n",
       " 'other',\n",
       " 'thing',\n",
       " 'i',\n",
       " 'do',\n",
       " 'not',\n",
       " 'like',\n",
       " 'BADREVIEW',\n",
       " 'be',\n",
       " 'that',\n",
       " 'i',\n",
       " 'cannot',\n",
       " 'wash',\n",
       " 'it',\n",
       " 'without',\n",
       " 'get',\n",
       " 'the',\n",
       " 'rope',\n",
       " 'all',\n",
       " 'wet',\n",
       " '.',\n",
       " 'it',\n",
       " 'would',\n",
       " 'be',\n",
       " 'good',\n",
       " 'GOODREVIEW',\n",
       " 'if',\n",
       " 'you',\n",
       " 'could',\n",
       " 'twist',\n",
       " 'off',\n",
       " 'the',\n",
       " 'rope',\n",
       " 'portion',\n",
       " 'and',\n",
       " 'throw',\n",
       " 'it',\n",
       " 'in',\n",
       " 'the',\n",
       " 'dishwasher',\n",
       " '.']"
      ]
     },
     "execution_count": 337,
     "metadata": {},
     "output_type": "execute_result"
    }
   ],
   "source": [
    "df.iloc[87]['lemmas_valence']"
   ]
  },
  {
   "cell_type": "markdown",
   "metadata": {},
   "source": [
    "### 5. Remove stop words, punctuation, and numbers\n",
    "\n",
    "Now that the text is tagged and lemmatized, we can strip out all the remaining unneeded content including numbers and punctuation. "
   ]
  },
  {
   "cell_type": "code",
   "execution_count": 338,
   "metadata": {},
   "outputs": [],
   "source": [
    "# strip out punctuation and numbers\n",
    "from string import punctuation\n",
    "punc = punctuation\n",
    "import re\n",
    "p = re.compile(\"[{}]\".format(punc))\n",
    "n = re.compile('[0-9]+')\n",
    "\n",
    "def remove_pn(df, clean, lemmas):\n",
    "    df[clean] = df[lemmas].apply(lambda x: \" \".join(x))\n",
    "    df[clean] = df[clean].replace(p, \"\").str.strip(\" \")\n",
    "    df[clean] = df[clean].replace(n, \"\").str.strip(\" \")\n",
    "    df[clean] = df[clean].apply(lambda x: \" \".join(x.split()))\n",
    "    return df"
   ]
  },
  {
   "cell_type": "code",
   "execution_count": 350,
   "metadata": {},
   "outputs": [
    {
     "data": {
      "text/plain": [
       "'i like this toy when i first get it and it keep my year old corgi busy for a while i put his food in it and a few other interactive toy to keep him busy this toy be actually too easy for him and lately he will only get about half the kibble out and then loose interest the other thing i do not like be that i cannot wash it without get the rope all wet it would be good if you could twist off the rope portion and throw it in the dishwasher'"
      ]
     },
     "execution_count": 350,
     "metadata": {},
     "output_type": "execute_result"
    }
   ],
   "source": [
    "df = remove_pn(df, 'vanilla_stripped', 'lemmas_vanilla')\n",
    "df.iloc[87]['vanilla_stripped']"
   ]
  },
  {
   "cell_type": "code",
   "execution_count": 351,
   "metadata": {},
   "outputs": [
    {
     "data": {
      "text/plain": [
       "'i like GOODREVIEW this toy when i first get it and it keep my year old corgi busy for a while i put his food in it and a few other interactive toy to keep him busy this toy be actually too easy BADREVIEW for him and lately he will only get about half the kibble out and then loose interest the other thing i do not like BADREVIEW be that i cannot wash it without get the rope all wet it would be good GOODREVIEW if you could twist off the rope portion and throw it in the dishwasher'"
      ]
     },
     "execution_count": 351,
     "metadata": {},
     "output_type": "execute_result"
    }
   ],
   "source": [
    "df = remove_pn(df, 'coded_stripped', 'lemmas_coded')\n",
    "df.iloc[87]['coded_stripped']"
   ]
  },
  {
   "cell_type": "code",
   "execution_count": 352,
   "metadata": {},
   "outputs": [
    {
     "data": {
      "text/plain": [
       "'i like GOODREVIEW this toy when i first get it and it keep my year old corgi busy for a while i put his food in it and a few other interactive toy to keep him busy this toy be actually too easy BADREVIEW for him and lately he will only get about half the kibble out and then loose interest the other thing i do not like BADREVIEW be that i cannot wash it without get the rope all wet it would be good GOODREVIEW if you could twist off the rope portion and throw it in the dishwasher'"
      ]
     },
     "execution_count": 352,
     "metadata": {},
     "output_type": "execute_result"
    }
   ],
   "source": [
    "df = remove_pn(df, 'valence_stripped', 'lemmas_valence')\n",
    "df.iloc[87]['valence_stripped']"
   ]
  },
  {
   "cell_type": "markdown",
   "metadata": {},
   "source": [
    "The final step of text prep is to remove stop words from the reviews. Stop words are common words that don't carry much information. There are many pre-made lists of stop words available on the internet. For the purposes of this analysis, I started with a common list and added some words to it - these are words that might appear too frequently across reviews and end up influencing how a topic is formed when I don't really want them to.\n",
    "\n",
    "Because topics are modeled on single words, I don't want some common negating words influencing the topics too much, so I'll create a version of the review without those words, for topic modeling, and a version that leaves them in, for colocation and readability. "
   ]
  },
  {
   "cell_type": "code",
   "execution_count": 348,
   "metadata": {},
   "outputs": [],
   "source": [
    "# load the full stop words list\n",
    "import pickle\n",
    "with open(\"stop_words.txt\", \"rb\") as f:\n",
    "    stop_words_full = set(pickle.load(f))\n",
    "    \n",
    "with open(\"stop_words.txt\", \"rb\") as f:    \n",
    "    stop_words_x = set(pickle.load(f))\n",
    "\n",
    "for w in ['not', 'no', 'none', 'nothing', 'never', 'nowhere']:\n",
    "    stop_words_x.discard(w)"
   ]
  },
  {
   "cell_type": "code",
   "execution_count": 356,
   "metadata": {},
   "outputs": [],
   "source": [
    "def remove_stop_words(df, output_col, input_col, stop_words):\n",
    "    df[output_col] = df[input_col].apply(lambda x: ' '.join([word.strip() for word in x.split() if word not in stop_words]))"
   ]
  },
  {
   "cell_type": "code",
   "execution_count": 357,
   "metadata": {},
   "outputs": [],
   "source": [
    "remove_stop_words(df, 'clean_vanilla', 'vanilla_stripped', stop_words_full)\n",
    "remove_stop_words(df, 'clean_coded', 'coded_stripped', stop_words_full)\n",
    "remove_stop_words(df, 'clean_valence', 'valence_stripped', stop_words_full)\n",
    "\n",
    "remove_stop_words(df, 'clean_vanilla_x', 'vanilla_stripped', stop_words_x)\n",
    "remove_stop_words(df, 'clean_coded_x', 'coded_stripped', stop_words_x)\n",
    "remove_stop_words(df, 'clean_valence_x', 'valence_stripped', stop_words_x)"
   ]
  },
  {
   "cell_type": "code",
   "execution_count": 359,
   "metadata": {},
   "outputs": [
    {
     "data": {
      "text/plain": [
       "'like toy first get keep year old corgi busy put food interactive toy keep busy toy actually easy lately get half kibble loose interest thing like cannot wash without get rope wet would good could twist rope portion throw dishwasher'"
      ]
     },
     "execution_count": 359,
     "metadata": {},
     "output_type": "execute_result"
    }
   ],
   "source": [
    "df.iloc[87]['clean_vanilla']"
   ]
  },
  {
   "cell_type": "code",
   "execution_count": 360,
   "metadata": {},
   "outputs": [
    {
     "data": {
      "text/plain": [
       "'like toy first get keep year old corgi busy put food interactive toy keep busy toy actually easy lately get half kibble loose interest thing like cannot wash without get rope wet would good could twist rope portion throw dishwasher'"
      ]
     },
     "execution_count": 360,
     "metadata": {},
     "output_type": "execute_result"
    }
   ],
   "source": [
    "df.iloc[87]['clean_vanilla_x']"
   ]
  },
  {
   "cell_type": "code",
   "execution_count": 361,
   "metadata": {},
   "outputs": [],
   "source": [
    "# count up the number of codewords for each review\n",
    "df['codecount_GOOD'] = df['clean_coded'].apply(lambda x: x.count('GOODREVIEW'))\n",
    "df['codecount_BAD'] = df['clean_coded'].apply(lambda x: x.count('BADREVIEW'))\n",
    "df['valencecount_GOOD'] = df['clean_valence'].apply(lambda x: x.count('GOODREVIEW'))\n",
    "df['valencecount_VGOOD'] = df['clean_valence'].apply(lambda x: x.count('VGOODREVIEW'))\n",
    "df['valencecount_BAD'] = df['clean_valence'].apply(lambda x: x.count('BADREVIEW'))\n",
    "df['valencecount_VBAD'] = df['clean_valence'].apply(lambda x: x.count('VBADREVIEW'))"
   ]
  },
  {
   "cell_type": "code",
   "execution_count": 362,
   "metadata": {},
   "outputs": [],
   "source": [
    "# finally, add a binary classification tag for the star rating score\n",
    "df['Sentiment'] = 0\n",
    "df.loc[df['Score']>3, 'Sentiment'] = 1"
   ]
  },
  {
   "cell_type": "code",
   "execution_count": 371,
   "metadata": {},
   "outputs": [],
   "source": [
    "# save it\n",
    "df.to_csv('reviews_subset.csv')"
   ]
  },
  {
   "cell_type": "code",
   "execution_count": null,
   "metadata": {},
   "outputs": [],
   "source": []
  }
 ],
 "metadata": {
  "anaconda-cloud": {},
  "kernelspec": {
   "display_name": "Python [default]",
   "language": "python",
   "name": "python3"
  },
  "language_info": {
   "codemirror_mode": {
    "name": "ipython",
    "version": 3
   },
   "file_extension": ".py",
   "mimetype": "text/x-python",
   "name": "python",
   "nbconvert_exporter": "python",
   "pygments_lexer": "ipython3",
   "version": "3.5.5"
  }
 },
 "nbformat": 4,
 "nbformat_minor": 1
}
